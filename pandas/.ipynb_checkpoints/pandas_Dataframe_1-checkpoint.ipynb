{
 "cells": [
  {
   "cell_type": "code",
   "execution_count": 2,
   "id": "73f4d9df",
   "metadata": {},
   "outputs": [],
   "source": [
    "import pandas as pd\n",
    "import numpy as np"
   ]
  },
  {
   "cell_type": "code",
   "execution_count": 3,
   "id": "55527aa6",
   "metadata": {},
   "outputs": [],
   "source": [
    "np.random.seed(101)\n",
    "mydata=np.random.randint(0,101,(4,3))"
   ]
  },
  {
   "cell_type": "code",
   "execution_count": 4,
   "id": "98a16177",
   "metadata": {},
   "outputs": [
    {
     "data": {
      "text/plain": [
       "array([[95, 11, 81],\n",
       "       [70, 63, 87],\n",
       "       [75,  9, 77],\n",
       "       [40,  4, 63]])"
      ]
     },
     "execution_count": 4,
     "metadata": {},
     "output_type": "execute_result"
    }
   ],
   "source": [
    "mydata"
   ]
  },
  {
   "cell_type": "code",
   "execution_count": 5,
   "id": "64c20aa0",
   "metadata": {},
   "outputs": [],
   "source": [
    "myindex=['CA','NY','AZ','TX']"
   ]
  },
  {
   "cell_type": "code",
   "execution_count": 6,
   "id": "b32affa7",
   "metadata": {},
   "outputs": [],
   "source": [
    "mycolumns=['Jan','Feb','Mar']"
   ]
  },
  {
   "cell_type": "code",
   "execution_count": 7,
   "id": "39ae6181",
   "metadata": {},
   "outputs": [],
   "source": [
    "df= pd.DataFrame(data=mydata,index=myindex,columns=mycolumns)"
   ]
  },
  {
   "cell_type": "code",
   "execution_count": 8,
   "id": "75c74c18",
   "metadata": {},
   "outputs": [
    {
     "data": {
      "text/html": [
       "<div>\n",
       "<style scoped>\n",
       "    .dataframe tbody tr th:only-of-type {\n",
       "        vertical-align: middle;\n",
       "    }\n",
       "\n",
       "    .dataframe tbody tr th {\n",
       "        vertical-align: top;\n",
       "    }\n",
       "\n",
       "    .dataframe thead th {\n",
       "        text-align: right;\n",
       "    }\n",
       "</style>\n",
       "<table border=\"1\" class=\"dataframe\">\n",
       "  <thead>\n",
       "    <tr style=\"text-align: right;\">\n",
       "      <th></th>\n",
       "      <th>Jan</th>\n",
       "      <th>Feb</th>\n",
       "      <th>Mar</th>\n",
       "    </tr>\n",
       "  </thead>\n",
       "  <tbody>\n",
       "    <tr>\n",
       "      <th>CA</th>\n",
       "      <td>95</td>\n",
       "      <td>11</td>\n",
       "      <td>81</td>\n",
       "    </tr>\n",
       "    <tr>\n",
       "      <th>NY</th>\n",
       "      <td>70</td>\n",
       "      <td>63</td>\n",
       "      <td>87</td>\n",
       "    </tr>\n",
       "    <tr>\n",
       "      <th>AZ</th>\n",
       "      <td>75</td>\n",
       "      <td>9</td>\n",
       "      <td>77</td>\n",
       "    </tr>\n",
       "    <tr>\n",
       "      <th>TX</th>\n",
       "      <td>40</td>\n",
       "      <td>4</td>\n",
       "      <td>63</td>\n",
       "    </tr>\n",
       "  </tbody>\n",
       "</table>\n",
       "</div>"
      ],
      "text/plain": [
       "    Jan  Feb  Mar\n",
       "CA   95   11   81\n",
       "NY   70   63   87\n",
       "AZ   75    9   77\n",
       "TX   40    4   63"
      ]
     },
     "execution_count": 8,
     "metadata": {},
     "output_type": "execute_result"
    }
   ],
   "source": [
    "df"
   ]
  },
  {
   "cell_type": "code",
   "execution_count": 9,
   "id": "3884a2f5",
   "metadata": {},
   "outputs": [
    {
     "name": "stdout",
     "output_type": "stream",
     "text": [
      "<class 'pandas.core.frame.DataFrame'>\n",
      "Index: 4 entries, CA to TX\n",
      "Data columns (total 3 columns):\n",
      " #   Column  Non-Null Count  Dtype\n",
      "---  ------  --------------  -----\n",
      " 0   Jan     4 non-null      int32\n",
      " 1   Feb     4 non-null      int32\n",
      " 2   Mar     4 non-null      int32\n",
      "dtypes: int32(3)\n",
      "memory usage: 80.0+ bytes\n"
     ]
    }
   ],
   "source": [
    "df.info()"
   ]
  },
  {
   "cell_type": "code",
   "execution_count": 10,
   "id": "2101f360",
   "metadata": {},
   "outputs": [
    {
     "data": {
      "text/plain": [
       "'C:\\\\Users\\\\TARAS\\\\Desktop\\\\Маш навч\\\\machine-learning\\\\pandas'"
      ]
     },
     "execution_count": 10,
     "metadata": {},
     "output_type": "execute_result"
    }
   ],
   "source": [
    "pwd"
   ]
  },
  {
   "cell_type": "code",
   "execution_count": 11,
   "id": "172fa3b6",
   "metadata": {},
   "outputs": [
    {
     "name": "stdout",
     "output_type": "stream",
     "text": [
      " Volume in drive C has no label.\n",
      " Volume Serial Number is 2292-1322\n",
      "\n",
      " Directory of C:\\Users\\TARAS\\Desktop\\Маш навч\\machine-learning\\pandas\n",
      "\n",
      "07.02.2024  00:33    <DIR>          .\n",
      "07.02.2024  00:33    <DIR>          ..\n",
      "07.02.2024  00:05    <DIR>          .ipynb_checkpoints\n",
      "01.02.2024  20:27            18 636 data.csv\n",
      "07.02.2024  00:25            12 548 pandas_Dataframe_1.ipynb\n",
      "06.02.2024  23:56             7 078 pandas_Series.ipynb\n",
      "               3 File(s)         38 262 bytes\n",
      "               3 Dir(s)  102 074 986 496 bytes free\n"
     ]
    }
   ],
   "source": [
    "ls"
   ]
  },
  {
   "cell_type": "code",
   "execution_count": 12,
   "id": "78f65b05",
   "metadata": {},
   "outputs": [],
   "source": [
    "df=pd.read_csv('C:\\\\Users\\\\TARAS\\\\Desktop\\\\Маш навч\\\\machine-learning\\\\pandas\\\\data.csv')"
   ]
  },
  {
   "cell_type": "code",
   "execution_count": 13,
   "id": "58735cf4",
   "metadata": {},
   "outputs": [
    {
     "data": {
      "text/html": [
       "<div>\n",
       "<style scoped>\n",
       "    .dataframe tbody tr th:only-of-type {\n",
       "        vertical-align: middle;\n",
       "    }\n",
       "\n",
       "    .dataframe tbody tr th {\n",
       "        vertical-align: top;\n",
       "    }\n",
       "\n",
       "    .dataframe thead th {\n",
       "        text-align: right;\n",
       "    }\n",
       "</style>\n",
       "<table border=\"1\" class=\"dataframe\">\n",
       "  <thead>\n",
       "    <tr style=\"text-align: right;\">\n",
       "      <th></th>\n",
       "      <th>Date</th>\n",
       "      <th>Open</th>\n",
       "      <th>High</th>\n",
       "      <th>Low</th>\n",
       "      <th>Close</th>\n",
       "      <th>Adj Close</th>\n",
       "      <th>Volume</th>\n",
       "    </tr>\n",
       "  </thead>\n",
       "  <tbody>\n",
       "    <tr>\n",
       "      <th>0</th>\n",
       "      <td>2023-02-01</td>\n",
       "      <td>353.859985</td>\n",
       "      <td>365.390015</td>\n",
       "      <td>349.910004</td>\n",
       "      <td>361.989990</td>\n",
       "      <td>361.989990</td>\n",
       "      <td>8005200</td>\n",
       "    </tr>\n",
       "    <tr>\n",
       "      <th>1</th>\n",
       "      <td>2023-02-02</td>\n",
       "      <td>365.160004</td>\n",
       "      <td>368.320007</td>\n",
       "      <td>358.429993</td>\n",
       "      <td>366.890015</td>\n",
       "      <td>366.890015</td>\n",
       "      <td>7857000</td>\n",
       "    </tr>\n",
       "    <tr>\n",
       "      <th>2</th>\n",
       "      <td>2023-02-03</td>\n",
       "      <td>359.079987</td>\n",
       "      <td>379.429993</td>\n",
       "      <td>359.000000</td>\n",
       "      <td>365.899994</td>\n",
       "      <td>365.899994</td>\n",
       "      <td>9402000</td>\n",
       "    </tr>\n",
       "    <tr>\n",
       "      <th>3</th>\n",
       "      <td>2023-02-06</td>\n",
       "      <td>363.640015</td>\n",
       "      <td>368.450012</td>\n",
       "      <td>360.679993</td>\n",
       "      <td>361.480011</td>\n",
       "      <td>361.480011</td>\n",
       "      <td>4994900</td>\n",
       "    </tr>\n",
       "    <tr>\n",
       "      <th>4</th>\n",
       "      <td>2023-02-07</td>\n",
       "      <td>358.510010</td>\n",
       "      <td>364.179993</td>\n",
       "      <td>354.179993</td>\n",
       "      <td>362.950012</td>\n",
       "      <td>362.950012</td>\n",
       "      <td>6289400</td>\n",
       "    </tr>\n",
       "    <tr>\n",
       "      <th>...</th>\n",
       "      <td>...</td>\n",
       "      <td>...</td>\n",
       "      <td>...</td>\n",
       "      <td>...</td>\n",
       "      <td>...</td>\n",
       "      <td>...</td>\n",
       "      <td>...</td>\n",
       "    </tr>\n",
       "    <tr>\n",
       "      <th>246</th>\n",
       "      <td>2024-01-25</td>\n",
       "      <td>551.950012</td>\n",
       "      <td>563.460022</td>\n",
       "      <td>548.460022</td>\n",
       "      <td>562.000000</td>\n",
       "      <td>562.000000</td>\n",
       "      <td>9451900</td>\n",
       "    </tr>\n",
       "    <tr>\n",
       "      <th>247</th>\n",
       "      <td>2024-01-26</td>\n",
       "      <td>561.809998</td>\n",
       "      <td>579.640015</td>\n",
       "      <td>558.429993</td>\n",
       "      <td>570.419983</td>\n",
       "      <td>570.419983</td>\n",
       "      <td>12754500</td>\n",
       "    </tr>\n",
       "    <tr>\n",
       "      <th>248</th>\n",
       "      <td>2024-01-29</td>\n",
       "      <td>571.349976</td>\n",
       "      <td>578.549988</td>\n",
       "      <td>562.679993</td>\n",
       "      <td>575.789978</td>\n",
       "      <td>575.789978</td>\n",
       "      <td>6905400</td>\n",
       "    </tr>\n",
       "    <tr>\n",
       "      <th>249</th>\n",
       "      <td>2024-01-30</td>\n",
       "      <td>567.320007</td>\n",
       "      <td>570.880005</td>\n",
       "      <td>560.820007</td>\n",
       "      <td>562.849976</td>\n",
       "      <td>562.849976</td>\n",
       "      <td>6181800</td>\n",
       "    </tr>\n",
       "    <tr>\n",
       "      <th>250</th>\n",
       "      <td>2024-01-31</td>\n",
       "      <td>562.849976</td>\n",
       "      <td>572.150024</td>\n",
       "      <td>562.039978</td>\n",
       "      <td>564.109985</td>\n",
       "      <td>564.109985</td>\n",
       "      <td>4857600</td>\n",
       "    </tr>\n",
       "  </tbody>\n",
       "</table>\n",
       "<p>251 rows × 7 columns</p>\n",
       "</div>"
      ],
      "text/plain": [
       "           Date        Open        High         Low       Close   Adj Close  \\\n",
       "0    2023-02-01  353.859985  365.390015  349.910004  361.989990  361.989990   \n",
       "1    2023-02-02  365.160004  368.320007  358.429993  366.890015  366.890015   \n",
       "2    2023-02-03  359.079987  379.429993  359.000000  365.899994  365.899994   \n",
       "3    2023-02-06  363.640015  368.450012  360.679993  361.480011  361.480011   \n",
       "4    2023-02-07  358.510010  364.179993  354.179993  362.950012  362.950012   \n",
       "..          ...         ...         ...         ...         ...         ...   \n",
       "246  2024-01-25  551.950012  563.460022  548.460022  562.000000  562.000000   \n",
       "247  2024-01-26  561.809998  579.640015  558.429993  570.419983  570.419983   \n",
       "248  2024-01-29  571.349976  578.549988  562.679993  575.789978  575.789978   \n",
       "249  2024-01-30  567.320007  570.880005  560.820007  562.849976  562.849976   \n",
       "250  2024-01-31  562.849976  572.150024  562.039978  564.109985  564.109985   \n",
       "\n",
       "       Volume  \n",
       "0     8005200  \n",
       "1     7857000  \n",
       "2     9402000  \n",
       "3     4994900  \n",
       "4     6289400  \n",
       "..        ...  \n",
       "246   9451900  \n",
       "247  12754500  \n",
       "248   6905400  \n",
       "249   6181800  \n",
       "250   4857600  \n",
       "\n",
       "[251 rows x 7 columns]"
      ]
     },
     "execution_count": 13,
     "metadata": {},
     "output_type": "execute_result"
    }
   ],
   "source": [
    "df"
   ]
  },
  {
   "cell_type": "code",
   "execution_count": 14,
   "id": "d9378965",
   "metadata": {},
   "outputs": [
    {
     "data": {
      "text/plain": [
       "Index(['Date', 'Open', 'High', 'Low', 'Close', 'Adj Close', 'Volume'], dtype='object')"
      ]
     },
     "execution_count": 14,
     "metadata": {},
     "output_type": "execute_result"
    }
   ],
   "source": [
    "df.columns"
   ]
  },
  {
   "cell_type": "code",
   "execution_count": 15,
   "id": "e2144d27",
   "metadata": {},
   "outputs": [
    {
     "data": {
      "text/plain": [
       "RangeIndex(start=0, stop=251, step=1)"
      ]
     },
     "execution_count": 15,
     "metadata": {},
     "output_type": "execute_result"
    }
   ],
   "source": [
    "df.index"
   ]
  },
  {
   "cell_type": "code",
   "execution_count": null,
   "id": "9ab4660f",
   "metadata": {},
   "outputs": [],
   "source": [
    "df.head"
   ]
  }
 ],
 "metadata": {
  "kernelspec": {
   "display_name": "Python 3 (ipykernel)",
   "language": "python",
   "name": "python3"
  },
  "language_info": {
   "codemirror_mode": {
    "name": "ipython",
    "version": 3
   },
   "file_extension": ".py",
   "mimetype": "text/x-python",
   "name": "python",
   "nbconvert_exporter": "python",
   "pygments_lexer": "ipython3",
   "version": "3.8.18"
  }
 },
 "nbformat": 4,
 "nbformat_minor": 5
}
