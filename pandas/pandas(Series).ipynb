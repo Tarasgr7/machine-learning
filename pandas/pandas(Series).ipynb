{
 "cells": [
  {
   "cell_type": "code",
   "execution_count": 3,
   "id": "73285e6f",
   "metadata": {},
   "outputs": [],
   "source": [
    "import numpy as np\n",
    "import pandas as pd"
   ]
  },
  {
   "cell_type": "code",
   "execution_count": 4,
   "id": "b1e97d7a",
   "metadata": {},
   "outputs": [],
   "source": [
    "my_group=['Taras','Sasha','Andriy','Oleg','Vasyl','Denis']\n",
    "marks_by_group=[[5,5,5],[5,5,3],[4,4,4],[4,3,3],[3,3,3],[2,4,3]]"
   ]
  },
  {
   "cell_type": "code",
   "execution_count": 5,
   "id": "96c46507",
   "metadata": {},
   "outputs": [],
   "source": [
    "information=pd.Series(marks_by_group,my_group)"
   ]
  },
  {
   "cell_type": "code",
   "execution_count": 6,
   "id": "98ed688c",
   "metadata": {},
   "outputs": [
    {
     "data": {
      "text/plain": [
       "Taras     [5, 5, 5]\n",
       "Sasha     [5, 5, 3]\n",
       "Andriy    [4, 4, 4]\n",
       "Oleg      [4, 3, 3]\n",
       "Vasyl     [3, 3, 3]\n",
       "Denis     [2, 4, 3]\n",
       "dtype: object"
      ]
     },
     "execution_count": 6,
     "metadata": {},
     "output_type": "execute_result"
    }
   ],
   "source": [
    "information"
   ]
  },
  {
   "cell_type": "code",
   "execution_count": 7,
   "id": "b0210be8",
   "metadata": {},
   "outputs": [
    {
     "data": {
      "text/plain": [
       "[5, 5, 5]"
      ]
     },
     "execution_count": 7,
     "metadata": {},
     "output_type": "execute_result"
    }
   ],
   "source": [
    "information[0]"
   ]
  },
  {
   "cell_type": "code",
   "execution_count": 8,
   "id": "89db78b5",
   "metadata": {},
   "outputs": [
    {
     "data": {
      "text/plain": [
       "Index(['Taras', 'Sasha', 'Andriy', 'Oleg', 'Vasyl', 'Denis'], dtype='object')"
      ]
     },
     "execution_count": 8,
     "metadata": {},
     "output_type": "execute_result"
    }
   ],
   "source": [
    "information.keys()"
   ]
  },
  {
   "cell_type": "code",
   "execution_count": 9,
   "id": "fb4eecdf",
   "metadata": {},
   "outputs": [
    {
     "data": {
      "text/plain": [
       "[5, 5, 5]"
      ]
     },
     "execution_count": 9,
     "metadata": {},
     "output_type": "execute_result"
    }
   ],
   "source": [
    "information['Taras']"
   ]
  },
  {
   "cell_type": "code",
   "execution_count": 10,
   "id": "43abbd7e",
   "metadata": {},
   "outputs": [
    {
     "data": {
      "text/plain": [
       "[[5, 5, 5], [5, 5, 3], [4, 4, 4], [4, 3, 3], [3, 3, 3], [2, 4, 3]]"
      ]
     },
     "execution_count": 10,
     "metadata": {},
     "output_type": "execute_result"
    }
   ],
   "source": [
    "marks_by_group"
   ]
  },
  {
   "cell_type": "code",
   "execution_count": 11,
   "id": "013ce4d6",
   "metadata": {},
   "outputs": [],
   "source": [
    "q1={'Japan':80,'China':450,'India':200,'USA':250}\n",
    "q2={'Brazil':100,'China':500,'India':210,'USA':260}"
   ]
  },
  {
   "cell_type": "code",
   "execution_count": 12,
   "id": "97eb533f",
   "metadata": {},
   "outputs": [],
   "source": [
    "sales_q1=pd.Series(q1)\n",
    "sales_q2=pd.Series(q2)\n"
   ]
  },
  {
   "cell_type": "code",
   "execution_count": 13,
   "id": "7acd74c6",
   "metadata": {},
   "outputs": [
    {
     "data": {
      "text/plain": [
       "80"
      ]
     },
     "execution_count": 13,
     "metadata": {},
     "output_type": "execute_result"
    }
   ],
   "source": [
    "sales_q1['Japan']"
   ]
  },
  {
   "cell_type": "code",
   "execution_count": 14,
   "id": "41ab8062",
   "metadata": {},
   "outputs": [
    {
     "data": {
      "text/plain": [
       "260"
      ]
     },
     "execution_count": 14,
     "metadata": {},
     "output_type": "execute_result"
    }
   ],
   "source": [
    "sales_q2['USA']"
   ]
  },
  {
   "cell_type": "code",
   "execution_count": 15,
   "id": "199c0fd1",
   "metadata": {},
   "outputs": [
    {
     "data": {
      "text/plain": [
       "Index(['Japan', 'China', 'India', 'USA'], dtype='object')"
      ]
     },
     "execution_count": 15,
     "metadata": {},
     "output_type": "execute_result"
    }
   ],
   "source": [
    "sales_q1.keys()"
   ]
  },
  {
   "cell_type": "code",
   "execution_count": 16,
   "id": "40d4c35b",
   "metadata": {},
   "outputs": [
    {
     "data": {
      "text/plain": [
       "Index(['Brazil', 'China', 'India', 'USA'], dtype='object')"
      ]
     },
     "execution_count": 16,
     "metadata": {},
     "output_type": "execute_result"
    }
   ],
   "source": [
    "sales_q2.keys()"
   ]
  },
  {
   "cell_type": "code",
   "execution_count": 17,
   "id": "efa477c9",
   "metadata": {},
   "outputs": [
    {
     "data": {
      "text/plain": [
       "Japan    160\n",
       "China    900\n",
       "India    400\n",
       "USA      500\n",
       "dtype: int64"
      ]
     },
     "execution_count": 17,
     "metadata": {},
     "output_type": "execute_result"
    }
   ],
   "source": [
    "sales_q1*2"
   ]
  },
  {
   "cell_type": "code",
   "execution_count": 18,
   "id": "94680a66",
   "metadata": {},
   "outputs": [
    {
     "data": {
      "text/plain": [
       "Brazil    1.0\n",
       "China     5.0\n",
       "India     2.1\n",
       "USA       2.6\n",
       "dtype: float64"
      ]
     },
     "execution_count": 18,
     "metadata": {},
     "output_type": "execute_result"
    }
   ],
   "source": [
    "sales_q2/100"
   ]
  },
  {
   "cell_type": "code",
   "execution_count": 19,
   "id": "993d1e8e",
   "metadata": {},
   "outputs": [
    {
     "data": {
      "text/plain": [
       "Brazil      NaN\n",
       "China     950.0\n",
       "India     410.0\n",
       "Japan       NaN\n",
       "USA       510.0\n",
       "dtype: float64"
      ]
     },
     "execution_count": 19,
     "metadata": {},
     "output_type": "execute_result"
    }
   ],
   "source": [
    "sales_q1+sales_q2"
   ]
  },
  {
   "cell_type": "code",
   "execution_count": 20,
   "id": "d4d324a6",
   "metadata": {},
   "outputs": [
    {
     "data": {
      "text/plain": [
       "Brazil    100.0\n",
       "China     950.0\n",
       "India     410.0\n",
       "Japan      80.0\n",
       "USA       510.0\n",
       "dtype: float64"
      ]
     },
     "execution_count": 20,
     "metadata": {},
     "output_type": "execute_result"
    }
   ],
   "source": [
    "sales_q1.add(sales_q2,fill_value=0)"
   ]
  },
  {
   "cell_type": "code",
   "execution_count": null,
   "id": "e66f4b1b",
   "metadata": {},
   "outputs": [],
   "source": []
  },
  {
   "cell_type": "code",
   "execution_count": null,
   "id": "26c9ca28",
   "metadata": {},
   "outputs": [],
   "source": []
  }
 ],
 "metadata": {
  "kernelspec": {
   "display_name": "Python 3 (ipykernel)",
   "language": "python",
   "name": "python3"
  },
  "language_info": {
   "codemirror_mode": {
    "name": "ipython",
    "version": 3
   },
   "file_extension": ".py",
   "mimetype": "text/x-python",
   "name": "python",
   "nbconvert_exporter": "python",
   "pygments_lexer": "ipython3",
   "version": "3.8.18"
  }
 },
 "nbformat": 4,
 "nbformat_minor": 5
}
